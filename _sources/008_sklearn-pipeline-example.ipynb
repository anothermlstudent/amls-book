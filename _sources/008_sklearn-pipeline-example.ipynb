{
 "cells": [
  {
   "cell_type": "markdown",
   "metadata": {},
   "source": [
    "# Sklearn pipeline"
   ]
  },
  {
   "cell_type": "code",
   "execution_count": 1,
   "metadata": {},
   "outputs": [],
   "source": [
    "%%capture\n",
    "%run ./001_dataset-regression.ipynb"
   ]
  },
  {
   "cell_type": "code",
   "execution_count": 2,
   "metadata": {
    "id": "uGLKm4gveQ-m"
   },
   "outputs": [],
   "source": [
    "import pandas as pd\n",
    "from sklearn_pandas import DataFrameMapper\n",
    "\n",
    "from sklearn.pipeline import Pipeline\n",
    "from sklearn.base import BaseEstimator\n",
    "from sklearn.model_selection import GridSearchCV\n",
    "from sklearn.preprocessing import PolynomialFeatures\n",
    "from sklearn.tree import DecisionTreeRegressor\n",
    "from sklearn.linear_model import LinearRegression\n",
    "\n",
    "# Load Data and split in train - test\n",
    "#Xy_train_df = pd.read_csv(\"Xy_train.csv\")\n",
    "#Xy_test_df = pd.read_csv(\"Xy_test.csv\")\n",
    "\n",
    "# Mapper to separeta X from y \n",
    "mapper_X = DataFrameMapper([(['X'], None)])\n",
    "mapper_y = DataFrameMapper([(['y'], None)])"
   ]
  },
  {
   "cell_type": "code",
   "execution_count": 3,
   "metadata": {
    "id": "ARq5P1g5gPwA"
   },
   "outputs": [],
   "source": [
    "class DummyEstimator(BaseEstimator):\n",
    "    def fit(self): pass\n",
    "    def score(self): pass\n",
    "\n",
    "# Create a pipeline\n",
    "reg_pipe = Pipeline(\n",
    "    [('feature_mapper', mapper_X),\n",
    "     ('polynomial_features',PolynomialFeatures()),\n",
    "     ('model', DummyEstimator())\n",
    "     ])\n",
    "\n",
    "search_space =  [dict(polynomial_features=['passthrough',PolynomialFeatures()],\n",
    "                      model=[DecisionTreeRegressor()],\n",
    "                      model__max_depth=[1, 2, 3]),\n",
    "                 dict(model=[LinearRegression()],model__fit_intercept=[True,False])]\n",
    "\n",
    "# Create grid search \n",
    "gs = GridSearchCV(reg_pipe, search_space)"
   ]
  },
  {
   "cell_type": "code",
   "execution_count": 4,
   "metadata": {
    "colab": {
     "base_uri": "https://localhost:8080/"
    },
    "id": "XwcSnsqYglmM",
    "outputId": "02ee03fa-7a0d-4021-85de-2e60a3d24545"
   },
   "outputs": [
    {
     "data": {
      "text/plain": [
       "GridSearchCV(estimator=Pipeline(steps=[('feature_mapper',\n",
       "                                        DataFrameMapper(features=[(['X'],\n",
       "                                                                   None)])),\n",
       "                                       ('polynomial_features',\n",
       "                                        PolynomialFeatures()),\n",
       "                                       ('model', DummyEstimator())]),\n",
       "             param_grid=[{'model': [DecisionTreeRegressor(max_depth=3)],\n",
       "                          'model__max_depth': [1, 2, 3],\n",
       "                          'polynomial_features': ['passthrough',\n",
       "                                                  PolynomialFeatures()]},\n",
       "                         {'model': [LinearRegression()],\n",
       "                          'model__fit_intercept': [True, False]}])"
      ]
     },
     "execution_count": 4,
     "metadata": {},
     "output_type": "execute_result"
    }
   ],
   "source": [
    "gs.fit(Xy_train_df,mapper_y.fit_transform(Xy_train_df))"
   ]
  },
  {
   "cell_type": "code",
   "execution_count": 5,
   "metadata": {
    "colab": {
     "base_uri": "https://localhost:8080/"
    },
    "id": "EMJOU2VlgugO",
    "outputId": "7250af34-0031-4667-fdbc-547bca5b3319"
   },
   "outputs": [
    {
     "data": {
      "text/plain": [
       "mean_fit_time                                                        0.00589619\n",
       "std_fit_time                                                         0.00304638\n",
       "mean_score_time                                                       0.0156991\n",
       "std_score_time                                                        0.0261977\n",
       "param_model                                                  LinearRegression()\n",
       "param_model__max_depth                                                      NaN\n",
       "param_polynomial_features                                                   NaN\n",
       "param_model__fit_intercept                                                False\n",
       "params                        {'model': LinearRegression(), 'model__fit_inte...\n",
       "split0_test_score                                                      0.471647\n",
       "split1_test_score                                                      0.700336\n",
       "split2_test_score                                                     -0.116926\n",
       "split3_test_score                                                     -0.582027\n",
       "split4_test_score                                                      0.548835\n",
       "mean_test_score                                                        0.204373\n",
       "std_test_score                                                         0.481192\n",
       "rank_test_score                                                               8\n",
       "Name: 7, dtype: object"
      ]
     },
     "execution_count": 5,
     "metadata": {},
     "output_type": "execute_result"
    }
   ],
   "source": [
    "pd.DataFrame(gs.cv_results_).iloc[7]"
   ]
  },
  {
   "cell_type": "code",
   "execution_count": null,
   "metadata": {
    "id": "tv9Q_1ORwhk2"
   },
   "outputs": [],
   "source": []
  },
  {
   "cell_type": "markdown",
   "metadata": {
    "id": "oDmZUcFIrQ03"
   },
   "source": [
    "## References"
   ]
  },
  {
   "cell_type": "markdown",
   "metadata": {},
   "source": [
    "```{bibliography} ./references.bib\n",
    ":filter: docname in docnames\n",
    "```"
   ]
  }
 ],
 "metadata": {
  "colab": {
   "collapsed_sections": [],
   "name": "Sklearn Pipeline Example.ipynb",
   "provenance": []
  },
  "kernelspec": {
   "display_name": "Python 3",
   "language": "python",
   "name": "python3"
  },
  "language_info": {
   "codemirror_mode": {
    "name": "ipython",
    "version": 3
   },
   "file_extension": ".py",
   "mimetype": "text/x-python",
   "name": "python",
   "nbconvert_exporter": "python",
   "pygments_lexer": "ipython3",
   "version": "3.7.9"
  }
 },
 "nbformat": 4,
 "nbformat_minor": 4
}
