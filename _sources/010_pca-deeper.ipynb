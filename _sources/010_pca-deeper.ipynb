{
 "cells": [
  {
   "cell_type": "markdown",
   "metadata": {
    "id": "7S7NIVRZ5AcM"
   },
   "source": [
    "# PCA one level deeper"
   ]
  },
  {
   "cell_type": "code",
   "execution_count": null,
   "metadata": {
    "id": "eB2INpan8TiN"
   },
   "outputs": [],
   "source": [
    "import numpy"
   ]
  },
  {
   "cell_type": "markdown",
   "metadata": {
    "id": "hRyv-pJ18XAa"
   },
   "source": [
    "Given $X$ the data matrix. With shape features x samples.\n",
    "\n",
    "Show with code that:\n",
    "\n",
    "USV = svd(x)\n",
    "\n",
    "XTX\n",
    "\n",
    "Para esta explicación, asumamos $X$ es la design matrix (esto quiere decir que está ordernada con las samples como filas y las features como columnas, es decir, tiene forma [samples,features] ).\n",
    "\n",
    "## Relación entre PCA y SVD\n",
    "Vamos a mostrar que las componentes principales de $X$ se pueden obtener calculando la descomposición en valores singulares de B.\n",
    "\n",
    "Empezamos definiendo, las siguientes matrices:\n",
    "\n",
    "$n$ es el número de samples, \n",
    "$\\bar{X}$ es la matriz de $n$ filas, dónde cada fila tenemos el vector promedio de las samples.\n",
    "\n",
    "\\begin{equation}\n",
    "B := X - \\bar{X} \\\\\n",
    "C := B^TB \\\\\n",
    "\\end{equation}\n",
    "\n",
    "Eigen decomposition de $C$\n",
    "$$C V = \\overbrace{V}^{\\text{eigenvectors}} \\underbrace{D}_{\\text{eigenvalues}}$$\n",
    "\n",
    "Las componentes principales de $X$, están dadas por $T$:\n",
    "$$ T = BV $$\n",
    "\n",
    "como la Singular Value Decomposition de $B$ nos da\n",
    "\n",
    "\\begin{equation}\n",
    "B = U \\Sigma V^T \\\\ \n",
    "\\end{equation}\n",
    "\n",
    "y como $V^TV=I$, podemos probar que $T$\n",
    "\n",
    "\\begin{align}\n",
    "T = B V &= U \\Sigma V^T V \\\\\n",
    "&=  U \\Sigma I \\\\\n",
    "&= U \\Sigma.\n",
    "\\end{align}\n",
    "\n",
    "# ¿Qué es C?\n",
    "\n",
    "Cómo $X$ está ordenada samples,features, $C$ me da la matriz de covarianzas entre mis features.\n",
    "\n",
    "Pero si hubiera ordenado $X$ de manera de tener features,samples, $C$ sería la matriz de covarianzas entre mis samples.\n",
    "\n",
    "\n"
   ]
  },
  {
   "cell_type": "markdown",
   "metadata": {
    "id": "UJKQuK-9WllM"
   },
   "source": [
    "## Scale or not to scale\n",
    "\n",
    "https://stats.stackexchange.com/questions/53/pca-on-correlation-or-covariance\n",
    "\n",
    "\n",
    "https://scikit-learn.org/stable/auto_examples/preprocessing/plot_scaling_importance.html"
   ]
  },
  {
   "cell_type": "markdown",
   "metadata": {
    "id": "saOQUJlcRKU0"
   },
   "source": [
    "# Appendix"
   ]
  },
  {
   "cell_type": "markdown",
   "metadata": {
    "id": "7zskoy1PLo7X"
   },
   "source": [
    "## Covarianza\n",
    "\n",
    "$covar(X,Y) = \\mathbb{E}[(X-\\bar{x})(Y-\\bar{y})]$\n",
    "\n",
    "Si tengo $N$ samples puedo estimar la covarianza:\n",
    "\n",
    "$\\hat{covar}(X,Y) = \\frac{1}{N} (\\mathbb{x}-\\mathbb{1} \\bar{x})^T(\\mathbb{y}- \\mathbb{1}\\bar{y})=\\frac{1}{N-1} \\sum_{i=1}^{N}(x_i-\\bar{x})(y_i-\\bar{y})$,\n",
    "\n",
    "dónde $\\bar{x} = \\frac{1}{N-1} \\sum_{x=1}^{N}x_i$"
   ]
  },
  {
   "cell_type": "markdown",
   "metadata": {
    "id": "WIUe83pcRM-2"
   },
   "source": [
    "## Matrix as a Linear transformation\n",
    "https://www.youtube.com/watch?v=g-Hb26agBFg"
   ]
  },
  {
   "cell_type": "code",
   "execution_count": null,
   "metadata": {
    "id": "M2ibYLSc76vU"
   },
   "outputs": [],
   "source": [
    "\n",
    "# Test that\n",
    "u, s, vh = np.linalg.svd(b, full_matrices=True)\n",
    "\n",
    "# Uno tiene que darme u el otro tiene que darme v\n",
    "# PCA es factorizar X@X_T en v W^2 v_T.  \n",
    "# Esto es numericamente inestable y por eso no aplicamos PCA.\n",
    "w, v = np.linalg.eig(X_T@X)\n",
    "\n",
    "w, v = np.linalg.eig(X@X_T)"
   ]
  },
  {
   "cell_type": "code",
   "execution_count": null,
   "metadata": {
    "id": "w7Xzt3pSSPO8"
   },
   "outputs": [],
   "source": [
    "import numpy as np\n",
    "import pandas as pd\n",
    "from sklearn.datasets import load_iris\n",
    "\n",
    "iris = load_iris()\n",
    "\n",
    "df= pd.DataFrame(data= np.c_[iris['data'], iris['target']],\n",
    "                 columns= iris['feature_names'] + ['target'])\n",
    "\n",
    "df['species'] = pd.Categorical.from_codes(iris.target, iris.target_names)"
   ]
  },
  {
   "cell_type": "code",
   "execution_count": null,
   "metadata": {
    "id": "qupbvbzeRGgh"
   },
   "outputs": [],
   "source": [
    "X = df.iloc[:,:4].copy()"
   ]
  },
  {
   "cell_type": "code",
   "execution_count": null,
   "metadata": {
    "colab": {
     "base_uri": "https://localhost:8080/",
     "height": 299
    },
    "id": "wZ4kFXIPT1t7",
    "outputId": "71731424-7f9a-4edc-fb00-fbdce0a166aa"
   },
   "outputs": [
    {
     "data": {
      "text/plain": [
       "<matplotlib.axes._subplots.AxesSubplot at 0x7ff7483cada0>"
      ]
     },
     "execution_count": 34,
     "metadata": {
      "tags": []
     },
     "output_type": "execute_result"
    },
    {
     "data": {
      "image/png": "[encoded data removed]",
      "text/plain": [
       "<Figure size 432x288 with 1 Axes>"
      ]
     },
     "metadata": {
      "needs_background": "light",
      "tags": []
     },
     "output_type": "display_data"
    }
   ],
   "source": []
  },
  {
   "cell_type": "code",
   "execution_count": null,
   "metadata": {
    "colab": {
     "base_uri": "https://localhost:8080/",
     "height": 104
    },
    "id": "Dx7G6DaCURuT",
    "outputId": "d5d44125-21b4-4b0c-a757-f63acd52f972"
   },
   "outputs": [
    {
     "data": {
      "text/plain": [
       "sepal length (cm)    0.828066\n",
       "sepal width (cm)     0.435866\n",
       "petal length (cm)    1.765298\n",
       "petal width (cm)     0.762238\n",
       "dtype: float64"
      ]
     },
     "execution_count": 37,
     "metadata": {
      "tags": []
     },
     "output_type": "execute_result"
    }
   ],
   "source": [
    "X.std()"
   ]
  },
  {
   "cell_type": "code",
   "execution_count": null,
   "metadata": {
    "id": "9E9IxAcJSvPW"
   },
   "outputs": [],
   "source": [
    "from sklearn.preprocessing import StandardScaler\n",
    "# let us now standardize the dataset\n",
    "X_scaled = StandardScaler().fit_transform(X)\n",
    "\n",
    "df_scaled_cols = [col+\" scaled\" for col in iris['feature_names']]\n",
    "df_scaled = pd.DataFrame(data= X_scaled ,\n",
    "                 columns= df_scaled_cols)"
   ]
  },
  {
   "cell_type": "code",
   "execution_count": null,
   "metadata": {
    "colab": {
     "base_uri": "https://localhost:8080/",
     "height": 35
    },
    "id": "Ed3RWXSBUHqW",
    "outputId": "1fe30513-5b9a-4b6e-ad92-ffce1a5add9e"
   },
   "outputs": [
    {
     "data": {
      "text/plain": [
       "1.0"
      ]
     },
     "execution_count": 36,
     "metadata": {
      "tags": []
     },
     "output_type": "execute_result"
    }
   ],
   "source": [
    "X_scaled.std()"
   ]
  },
  {
   "cell_type": "code",
   "execution_count": null,
   "metadata": {
    "colab": {
     "base_uri": "https://localhost:8080/",
     "height": 296
    },
    "id": "RuEBkmBfTCRd",
    "outputId": "a5ba1159-12ad-4080-8894-727fd4f9ee4b"
   },
   "outputs": [
    {
     "data": {
      "text/plain": [
       "<matplotlib.axes._subplots.AxesSubplot at 0x7ff748023668>"
      ]
     },
     "execution_count": 41,
     "metadata": {
      "tags": []
     },
     "output_type": "execute_result"
    },
    {
     "data": {
      "image/png": "[encoded data removed]",
      "text/plain": [
       "<Figure size 432x288 with 1 Axes>"
      ]
     },
     "metadata": {
      "needs_background": "light",
      "tags": []
     },
     "output_type": "display_data"
    }
   ],
   "source": [
    "import matplotlib.pyplot as plt\n",
    "fig,ax = plt.subplots()\n",
    "df.plot(x = df.columns[0], y = df.columns[1], kind='scatter',color='blue',ax=ax)\n",
    "df_scaled.plot(x = df_scaled_cols[0], y = df_scaled_cols[1], kind='scatter',color='orange',ax=ax)"
   ]
  },
  {
   "cell_type": "code",
   "execution_count": null,
   "metadata": {
    "id": "4gaN2a3tTCMh"
   },
   "outputs": [],
   "source": [
    "data_np = np.array([(2,0),(2,6),(5,0),(5,4),(6,9),(7,0),(7,4),(10,0),(10,6),(15,9),(18,0),(18,6)])\n",
    "\n",
    "data = pd.DataFrame(data=data_np,columns=[\"x\",\"y\"])"
   ]
  },
  {
   "cell_type": "code",
   "execution_count": null,
   "metadata": {
    "colab": {
     "base_uri": "https://localhost:8080/",
     "height": 296
    },
    "id": "zGNGSVFwEi3h",
    "outputId": "4f935cfa-9e5b-46b9-bb7a-7a0e4e265bb4"
   },
   "outputs": [
    {
     "data": {
      "text/plain": [
       "<matplotlib.axes._subplots.AxesSubplot at 0x7ff74589c128>"
      ]
     },
     "execution_count": 70,
     "metadata": {
      "tags": []
     },
     "output_type": "execute_result"
    },
    {
     "data": {
      "image/png": "[encoded data removed]",
      "text/plain": [
       "<Figure size 432x288 with 1 Axes>"
      ]
     },
     "metadata": {
      "needs_background": "light",
      "tags": []
     },
     "output_type": "display_data"
    }
   ],
   "source": [
    "import matplotlib.pyplot as plt\n",
    "fig,ax = plt.subplots()\n",
    "pd.DataFrame(data=data.values,columns=[\"x\",\"y\"]).plot(x='x',y='y',ax=ax,color='orange')\n",
    "(pd.DataFrame(data=data.values@np.array([[3,0],[1,0.5]]),columns=[\"x\",\"y\"])).plot(x='x',y='y',ax=ax)\n",
    "pd.DataFrame(data=data.values,columns=[\"x\",\"y\"]).plot(x='x',y='y',ax=ax,color='orange',kind='scatter')\n",
    "(pd.DataFrame(data=data.values@np.array([[3,0],[1,0.5]]),columns=[\"x\",\"y\"])).plot(x='x',y='y',ax=ax,kind='scatter')"
   ]
  },
  {
   "cell_type": "markdown",
   "metadata": {
    "id": "aY1OZ3ui5NOK"
   },
   "source": [
    "## References\n",
    "\n",
    "https://www.youtube.com/watch?v=nbBvuuNVfco  \n",
    "\n",
    "https://www.youtube.com/watch?v=xy3QyyhiuY4  \n",
    "\n",
    "[Singular Value Decomposition (SVD): Dominant Correlations](\n",
    "https://www.youtube.com/watch?v=WmDnaoY2Ivs)  \n",
    "\n",
    "[Principal Component Analysis (PCA)](https://www.youtube.com/watch?v=fkf4IBRSeEc)  \n",
    "\n",
    "\n",
    "[Eigenvalues and Eigenvectors](https://www.youtube.com/watch?v=PFDu9oVAE-g)"
   ]
  },
  {
   "cell_type": "code",
   "execution_count": null,
   "metadata": {
    "id": "TlmJS6Jt5I2v"
   },
   "outputs": [],
   "source": []
  }
 ],
 "metadata": {
  "colab": {
   "collapsed_sections": [],
   "name": "PCA - One level deeper.ipynb",
   "provenance": []
  },
  "kernelspec": {
   "display_name": "Python 3",
   "language": "python",
   "name": "python3"
  },
  "language_info": {
   "codemirror_mode": {
    "name": "ipython",
    "version": 3
   },
   "file_extension": ".py",
   "mimetype": "text/x-python",
   "name": "python",
   "nbconvert_exporter": "python",
   "pygments_lexer": "ipython3",
   "version": "3.7.9"
  }
 },
 "nbformat": 4,
 "nbformat_minor": 1
}
