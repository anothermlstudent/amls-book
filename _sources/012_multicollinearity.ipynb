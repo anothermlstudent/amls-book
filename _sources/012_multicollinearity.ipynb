{
 "cells": [
  {
   "cell_type": "markdown",
   "metadata": {},
   "source": [
    "# Multicollinearity.\n"
   ]
  },
  {
   "cell_type": "markdown",
   "metadata": {},
   "source": [
    "### 1. Definition."
   ]
  },
  {
   "cell_type": "markdown",
   "metadata": {},
   "source": [
    "According to [Wikipedia](https://en.wikipedia.org/wiki/Multicollinearity#:~:text=Multicollinearity%20refers%20to%20a%20situation,equal%20to%201%20or%20%E2%88%9A21.):\n",
    "* **collinearity** is a linear association between two explanatory variables. \n",
    "* **multicollinearity** is a linear association between more than two explanatory variables within a dataset:\n",
    "  + **perfect** multicollinearity occurs when linear correlation between our variables is equal to 1 or -1.\n",
    "  + **nearly perfect** multicollinearity arises when there is already approximate linear relationship between variables."
   ]
  },
  {
   "cell_type": "markdown",
   "metadata": {},
   "source": [
    "### 2. When is multicollinearity a problem and why?"
   ]
  },
  {
   "cell_type": "markdown",
   "metadata": {},
   "source": [
    "Let's examine the case of perfect multicollinearity. It means, among some variables from our dataset, there exists a linear relationship:\n",
    "\n",
    "$\\lambda_0 + \\lambda_1 * X_{1i} + \\lambda_2 * X_{2i} + ... + \\lambda_k * X_{ki} = 0$ \n",
    "\n",
    "where $X_{ki}$ is the ith observartion on the kth explanatory variable, and $\\lambda_{k}$ is a constant.\n",
    "\n",
    "For a multiple regression equation, where $X_{1}, ... X_{k}$ are the explanatory variables and $Y$ the target variable, we would have the following equation:\n",
    "\n",
    "$Y_{i} =  \\beta_{0} + \\beta_{1} * X_{1i} + ... + \\beta_{k} * X_{ki} + \\epsilon{i}$\n",
    "\n",
    "Identifying the $\\beta$ with OLS (Ordinary Least Squares) implies that:\n",
    "\n",
    "$Y = X * \\beta + \\epsilon <=>\n",
    "X^T * Y = X^T * X * \\hat{\\beta}  <=> \n",
    "(X^T * X) ^{-1} * X^T * Y = \\hat{\\beta}  $\n",
    "\n",
    "With correlated variables, the rank of square matrix $X^TX$ is not k anymore, which makes it not invertible.\n",
    "\n",
    "The issue with nearly perfect collinearity stays in the sense that even though existing, computer may not be able to compute or appromixate an inverse as the matrix is ill defined. Any results will be very sensitive to slighlty changes in the data, due to roundings effects. It may be very **inaccurate and sample dependent.** \n",
    "\n",
    "\n",
    "In practice this causes therefore problems when:\n",
    "* we need to **identify significant variables** from a multivariable regression. (the standard error will be higher).\n",
    "* we need to **interpret coefficients from a mutivariable regression.**\n",
    "* we need to **avoid overfitting.**"
   ]
  },
  {
   "cell_type": "markdown",
   "metadata": {},
   "source": [
    "### 3. How to detect multicollinearity?"
   ]
  },
  {
   "cell_type": "markdown",
   "metadata": {},
   "source": [
    "A good way to detect multicollinearity and which are the affected variables is to use the **VIF (Variance Inflation Factor)**.\n",
    "\n",
    "In practice, this is an index which tells how much the variance of a coefficient is increased by collinearity.\n",
    "It is determined in the following way:\n",
    "\n",
    "1. we run OLS regression to determine $X_{1}$ based on all the other $X_{i}$ variables.\n",
    "$X_{1} = \\alpha_{0} + \\alpha_{2} * X_{2} + ... + \\alpha_{k} * X_{k}$\n",
    "\n",
    "\n",
    "2. we calculate VIF index as following:\n",
    "$VIF_{1} = 1 / (1 - R^2_{1})$ with $R^2$ determined from step 1.\n",
    "\n",
    "\n",
    "3. As a rule of thumb, if **VIF > 5**, it means multi-collinearity is there. **VIF > 10** means there is high multicolinearity. (Indeed, the higher $R^2$ is, the greater the propertion of variance of $X_{1}$ is predictable from the other $X_{k}$ variables.)"
   ]
  },
  {
   "cell_type": "markdown",
   "metadata": {},
   "source": [
    "In practice with python, with example taken from: https://etav.github.io/python/vif_factor_python.html/"
   ]
  },
  {
   "cell_type": "code",
   "execution_count": 44,
   "metadata": {},
   "outputs": [
    {
     "data": {
      "text/html": [
       "<div>\n",
       "<style scoped>\n",
       "    .dataframe tbody tr th:only-of-type {\n",
       "        vertical-align: middle;\n",
       "    }\n",
       "\n",
       "    .dataframe tbody tr th {\n",
       "        vertical-align: top;\n",
       "    }\n",
       "\n",
       "    .dataframe thead th {\n",
       "        text-align: right;\n",
       "    }\n",
       "</style>\n",
       "<table border=\"1\" class=\"dataframe\">\n",
       "  <thead>\n",
       "    <tr style=\"text-align: right;\">\n",
       "      <th></th>\n",
       "      <th>Independent Features</th>\n",
       "      <th>VIF Scores</th>\n",
       "    </tr>\n",
       "  </thead>\n",
       "  <tbody>\n",
       "    <tr>\n",
       "      <th>0</th>\n",
       "      <td>Interior(Sq Ft)</td>\n",
       "      <td>35.436502</td>\n",
       "    </tr>\n",
       "    <tr>\n",
       "      <th>1</th>\n",
       "      <td># of Bed</td>\n",
       "      <td>30.207875</td>\n",
       "    </tr>\n",
       "    <tr>\n",
       "      <th>2</th>\n",
       "      <td># of Bath</td>\n",
       "      <td>12.254030</td>\n",
       "    </tr>\n",
       "    <tr>\n",
       "      <th>3</th>\n",
       "      <td># of Rooms</td>\n",
       "      <td>41.654966</td>\n",
       "    </tr>\n",
       "    <tr>\n",
       "      <th>4</th>\n",
       "      <td>Condo Fee</td>\n",
       "      <td>9.023152</td>\n",
       "    </tr>\n",
       "    <tr>\n",
       "      <th>5</th>\n",
       "      <td>Tax</td>\n",
       "      <td>11.603921</td>\n",
       "    </tr>\n",
       "  </tbody>\n",
       "</table>\n",
       "</div>"
      ],
      "text/plain": [
       "  Independent Features  VIF Scores\n",
       "0      Interior(Sq Ft)   35.436502\n",
       "1             # of Bed   30.207875\n",
       "2            # of Bath   12.254030\n",
       "3           # of Rooms   41.654966\n",
       "4            Condo Fee    9.023152\n",
       "5                  Tax   11.603921"
      ]
     },
     "execution_count": 44,
     "metadata": {},
     "output_type": "execute_result"
    }
   ],
   "source": [
    "#Imports\n",
    "import pandas as pd\n",
    "import numpy as np\n",
    "from patsy import dmatrices\n",
    "import statsmodels.api as sm\n",
    "from statsmodels.stats.outliers_influence import variance_inflation_factor\n",
    "\n",
    "url = 'https://raw.githubusercontent.com/SushmithaPulagam/Fixing-Multicollinearity/master/House%20Sales.csv'\n",
    "df = pd.read_csv(url)\n",
    "\n",
    "def vif_scores(df):\n",
    "    VIF_Scores = pd.DataFrame()\n",
    "    VIF_Scores[\"Independent Features\"] = df.columns\n",
    "    VIF_Scores[\"VIF Scores\"] = [variance_inflation_factor(df.values,i) for i in range(df.shape[1])]\n",
    "    return VIF_Scores\n",
    "\n",
    "# need to ask Matias about that\n",
    "df1 = df.iloc[:,:-1]\n",
    "vif_scores(df1)\n"
   ]
  },
  {
   "cell_type": "markdown",
   "metadata": {},
   "source": [
    "### 4. How to scope with multicollinearity?"
   ]
  },
  {
   "cell_type": "markdown",
   "metadata": {},
   "source": [
    "1. A first way to deal with multicolinearity is to iteratively **drop the variables** with the highest VIF. For instance, let's drop here the # of Rooms and recalculate VIF. "
   ]
  },
  {
   "cell_type": "code",
   "execution_count": 45,
   "metadata": {},
   "outputs": [
    {
     "name": "stdout",
     "output_type": "stream",
     "text": [
      "First drop\n"
     ]
    },
    {
     "data": {
      "text/html": [
       "<div>\n",
       "<style scoped>\n",
       "    .dataframe tbody tr th:only-of-type {\n",
       "        vertical-align: middle;\n",
       "    }\n",
       "\n",
       "    .dataframe tbody tr th {\n",
       "        vertical-align: top;\n",
       "    }\n",
       "\n",
       "    .dataframe thead th {\n",
       "        text-align: right;\n",
       "    }\n",
       "</style>\n",
       "<table border=\"1\" class=\"dataframe\">\n",
       "  <thead>\n",
       "    <tr style=\"text-align: right;\">\n",
       "      <th></th>\n",
       "      <th>Independent Features</th>\n",
       "      <th>VIF Scores</th>\n",
       "    </tr>\n",
       "  </thead>\n",
       "  <tbody>\n",
       "    <tr>\n",
       "      <th>0</th>\n",
       "      <td>Interior(Sq Ft)</td>\n",
       "      <td>27.000350</td>\n",
       "    </tr>\n",
       "    <tr>\n",
       "      <th>1</th>\n",
       "      <td># of Bed</td>\n",
       "      <td>16.803246</td>\n",
       "    </tr>\n",
       "    <tr>\n",
       "      <th>2</th>\n",
       "      <td># of Bath</td>\n",
       "      <td>12.253809</td>\n",
       "    </tr>\n",
       "    <tr>\n",
       "      <th>3</th>\n",
       "      <td>Condo Fee</td>\n",
       "      <td>8.582433</td>\n",
       "    </tr>\n",
       "    <tr>\n",
       "      <th>4</th>\n",
       "      <td>Tax</td>\n",
       "      <td>10.961302</td>\n",
       "    </tr>\n",
       "  </tbody>\n",
       "</table>\n",
       "</div>"
      ],
      "text/plain": [
       "  Independent Features  VIF Scores\n",
       "0      Interior(Sq Ft)   27.000350\n",
       "1             # of Bed   16.803246\n",
       "2            # of Bath   12.253809\n",
       "3            Condo Fee    8.582433\n",
       "4                  Tax   10.961302"
      ]
     },
     "execution_count": 45,
     "metadata": {},
     "output_type": "execute_result"
    }
   ],
   "source": [
    "print(\"First drop\")\n",
    "df.pop(\"# of Rooms\")\n",
    "df1 = df.iloc[:,:-1]\n",
    "vif_scores(df1)"
   ]
  },
  {
   "cell_type": "markdown",
   "metadata": {},
   "source": [
    "After, we can drop the Interior variable."
   ]
  },
  {
   "cell_type": "code",
   "execution_count": 46,
   "metadata": {},
   "outputs": [
    {
     "name": "stdout",
     "output_type": "stream",
     "text": [
      "Second drop\n",
      "  Independent Features  VIF Scores\n",
      "0             # of Bed    7.515687\n",
      "1            # of Bath   10.411790\n",
      "2            Condo Fee    8.582383\n",
      "3                  Tax   10.240541\n"
     ]
    }
   ],
   "source": [
    "print(\"Second drop\")\n",
    "df.pop(\"Interior(Sq Ft)\")\n",
    "df1 = df.iloc[:,:-1]\n",
    "print(vif_scores(df1))"
   ]
  },
  {
   "cell_type": "markdown",
   "metadata": {},
   "source": [
    "2. Another approach is to **combine** variables together."
   ]
  },
  {
   "cell_type": "code",
   "execution_count": 47,
   "metadata": {},
   "outputs": [
    {
     "data": {
      "text/html": [
       "<div>\n",
       "<style scoped>\n",
       "    .dataframe tbody tr th:only-of-type {\n",
       "        vertical-align: middle;\n",
       "    }\n",
       "\n",
       "    .dataframe tbody tr th {\n",
       "        vertical-align: top;\n",
       "    }\n",
       "\n",
       "    .dataframe thead th {\n",
       "        text-align: right;\n",
       "    }\n",
       "</style>\n",
       "<table border=\"1\" class=\"dataframe\">\n",
       "  <thead>\n",
       "    <tr style=\"text-align: right;\">\n",
       "      <th></th>\n",
       "      <th>Independent Features</th>\n",
       "      <th>VIF Scores</th>\n",
       "    </tr>\n",
       "  </thead>\n",
       "  <tbody>\n",
       "    <tr>\n",
       "      <th>0</th>\n",
       "      <td>Condo Fee</td>\n",
       "      <td>7.27979</td>\n",
       "    </tr>\n",
       "    <tr>\n",
       "      <th>1</th>\n",
       "      <td>Tax</td>\n",
       "      <td>7.27979</td>\n",
       "    </tr>\n",
       "  </tbody>\n",
       "</table>\n",
       "</div>"
      ],
      "text/plain": [
       "  Independent Features  VIF Scores\n",
       "0            Condo Fee     7.27979\n",
       "1                  Tax     7.27979"
      ]
     },
     "execution_count": 47,
     "metadata": {},
     "output_type": "execute_result"
    }
   ],
   "source": [
    "df.assign(Total = df['# of Bed'] +  df['# of Bath'] )\n",
    "df.pop(\"# of Bed\")\n",
    "df.pop(\"# of Bath\")\n",
    "df1 = df.iloc[:,:-1]\n",
    "vif_scores(df1)"
   ]
  },
  {
   "cell_type": "markdown",
   "metadata": {},
   "source": [
    "3. Other approaches would be to use **PCA** which ends up with uncorrelated variables (but we may loose interpretability) or **PLS instead of OLS** which reduces our set to a smaller set with uncorrelated variables.\n",
    "\n",
    "\n",
    "4. Finally we can also use **regularization techniques**."
   ]
  },
  {
   "cell_type": "markdown",
   "metadata": {},
   "source": [
    "### References."
   ]
  },
  {
   "cell_type": "markdown",
   "metadata": {},
   "source": [
    "https://towardsdatascience.com/multicollinearity-in-data-science-c5f6c0fe6edf\n",
    "\n",
    "https://en.wikipedia.org/wiki/Multicollinearity\n",
    "\n",
    "https://en.wikipedia.org/wiki/Variance_inflation_factor\n",
    "\n",
    "https://etav.github.io/python/vif_factor_python.html\n"
   ]
  },
  {
   "cell_type": "code",
   "execution_count": null,
   "metadata": {},
   "outputs": [],
   "source": []
  }
 ],
 "metadata": {
  "kernelspec": {
   "display_name": "Python 3",
   "language": "python",
   "name": "python3"
  },
  "language_info": {
   "codemirror_mode": {
    "name": "ipython",
    "version": 3
   },
   "file_extension": ".py",
   "mimetype": "text/x-python",
   "name": "python",
   "nbconvert_exporter": "python",
   "pygments_lexer": "ipython3",
   "version": "3.8.3"
  }
 },
 "nbformat": 4,
 "nbformat_minor": 4
}
