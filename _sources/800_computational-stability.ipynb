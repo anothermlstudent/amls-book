{
 "cells": [
  {
   "cell_type": "markdown",
   "metadata": {
    "id": "v74EobfW7sAz"
   },
   "source": [
    "# Poor Conditioning\n",
    "Deep Learning Book Pag 79\n",
    "\n",
    "Consider the function $f(\\mathbf{x}) = \\mathbf{A}^{-1}\\mathbf{x}$. When $\\mathbf{A} \\in \\mathbb{R}^{n \\times n}$ has an eigenvalue decomposition, its **condition number** is \n",
    "$$ \\max_{i,j} \\Big|\\frac{\\lambda_i}{\\lambda_j}\\Big|.$$\n",
    "\n",
    "When this number is large, matrix inversion is particularly sensitive to error in the input."
   ]
  },
  {
   "cell_type": "markdown",
   "metadata": {
    "id": "YzFvZlxr--Q7"
   },
   "source": [
    "# Solution. Use Cholesky decomposition"
   ]
  },
  {
   "cell_type": "markdown",
   "metadata": {
    "id": "QHTOhXbJ7sI-"
   },
   "source": [
    "From wikipedia\n",
    "\n",
    "The Cholesky decomposition is mainly used for the numerical solution of linear equations $ \\mathbf {Ax} =\\mathbf {b} $. If $\\mathbf{A}$ is symmetric and positive definite, then we can solve $\\mathbf {Ax} =\\mathbf {b} $ by first computing the Cholesky decomposition ${\\displaystyle \\mathbf {A} =\\mathbf {LL} ^{\\mathrm {*} }}$, then solving ${\\displaystyle \\mathbf {Ly} =\\mathbf {b} }$ for $\\mathbf{y}$ by forward substitution, and finally solving ${\\displaystyle \\mathbf {L^{*}x} =\\mathbf {y} }$ for $\\mathbf{x}$ by back substitution."
   ]
  },
  {
   "cell_type": "markdown",
   "metadata": {
    "id": "WdKY9pn1-64z"
   },
   "source": [
    "# Solution with Code"
   ]
  },
  {
   "cell_type": "markdown",
   "metadata": {
    "id": "rQ20mcMY_MLK"
   },
   "source": [
    "I don't know what method use the scipy solver but it allows to assume that a is positive definite"
   ]
  },
  {
   "cell_type": "code",
   "execution_count": null,
   "metadata": {
    "id": "UDGw1g8N4_RH"
   },
   "outputs": [],
   "source": [
    "K21invK11 = scipy.linalg.solve(K11, K12, assume_a='pos').T"
   ]
  },
  {
   "cell_type": "markdown",
   "metadata": {
    "id": "Otm0Vc73-3rn"
   },
   "source": [
    "# Examples of Applications"
   ]
  },
  {
   "cell_type": "markdown",
   "metadata": {
    "id": "tkomCeQn-sLc"
   },
   "source": [
    "From Wikipedia https://en.wikipedia.org/wiki/Cholesky_decomposition#Linear_least_squares \n",
    "\n",
    "#  Linear least squares\n",
    "Systems of the form Ax = b with A symmetric and positive definite arise quite often in applications. For instance, the normal equations in linear least squares problems are of this form. It may also happen that matrix A comes from an energy functional, which must be positive from physical considerations; this happens frequently in the numerical solution of partial differential equations."
   ]
  },
  {
   "cell_type": "markdown",
   "metadata": {
    "id": "L0_9p5u36AB4"
   },
   "source": [
    "# In Gaussian Processes"
   ]
  },
  {
   "cell_type": "markdown",
   "metadata": {
    "id": "UU6OPJdC6VGG"
   },
   "source": [
    "$$p(y_{2}|x_{1}, y_{1}, x_{2}) = \\cal{N}(y_{2}|\\mu_{2|1},\\Sigma_{2|1}) $$\n",
    "$$\n",
    "\\mu_{2|1} = \\mu_{2} + \\Sigma_{21} \\Sigma^{-1}_{11} (y_{1} - \\mu_{1}) $$\n",
    "$$\n",
    "\\Sigma_{2|1} = \\Sigma_{22} - \\Sigma_{21} \\Sigma^{-1}_{11} \\Sigma_{12}\n",
    "$$"
   ]
  },
  {
   "cell_type": "markdown",
   "metadata": {
    "id": "Ig54qvJE5HG1"
   },
   "source": [
    "$\\Sigma_{11}^{-1}\\Sigma_{12}$ can be computed with the help of Scipy's solve function, which solves for $X$ the linear system $\\Sigma_{11} X = \\Sigma_{12}$. Using this method improves the speed and numerical accuracy compared to computing the inverse of $\\Sigma_{11}$ directly. Especially since it can make use of the fact that \n",
    "$\\Sigma_{11}$ is symmetric and positive definite."
   ]
  }
 ],
 "metadata": {
  "colab": {
   "collapsed_sections": [],
   "name": "Computational Stability.ipynb",
   "provenance": []
  },
  "kernelspec": {
   "display_name": "Python 3",
   "name": "python3"
  }
 },
 "nbformat": 4,
 "nbformat_minor": 0
}
