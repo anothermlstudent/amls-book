{
 "cells": [
  {
   "cell_type": "markdown",
   "metadata": {},
   "source": [
    "# Appendix"
   ]
  },
  {
   "cell_type": "markdown",
   "metadata": {
    "id": "Fp5H2f5tNsZu"
   },
   "source": [
    "## Expectation of a function"
   ]
  },
  {
   "cell_type": "markdown",
   "metadata": {
    "id": "k8UPT12IT3tB"
   },
   "source": [
    "The expectation of a function $f(x)$ can be approaximated by\n",
    "\n",
    "$$ \\mathbb{E}_{x}[f] \\simeq \\frac{1}{N} \\sum_{n=1}^{N} f(x_n)$$\n",
    "\n",
    ",with this approximation becoming exact in the limit $N \\to \\infty$ ({cite}`bishop_pattern_2007` Page 20)."
   ]
  },
  {
   "cell_type": "markdown",
   "metadata": {
    "id": "7zskoy1PLo7X"
   },
   "source": [
    "## Covarianza\n",
    "\n",
    "$covar(X,Y) = \\mathbb{E}[(X-\\bar{x})(Y-\\bar{y})]$\n",
    "\n",
    "Si tengo $N$ samples puedo estimar la covarianza:\n",
    "\n",
    "$\\hat{covar}(X,Y) = \\frac{1}{N} (\\mathbb{x}-\\mathbb{1} \\bar{x})^T(\\mathbb{y}- \\mathbb{1}\\bar{y})=\\frac{1}{N-1} \\sum_{i=1}^{N}(x_i-\\bar{x})(y_i-\\bar{y})$,\n",
    "\n",
    "dónde $\\bar{x} = \\frac{1}{N-1} \\sum_{x=1}^{N}x_i$"
   ]
  },
  {
   "cell_type": "markdown",
   "metadata": {
    "id": "WIUe83pcRM-2"
   },
   "source": [
    "## Matrix as a Linear transformation\n",
    "\n",
    "https://www.youtube.com/watch?v=g-Hb26agBFg"
   ]
  },
  {
   "cell_type": "markdown",
   "metadata": {
    "id": "DnILqI_rGkEV"
   },
   "source": [
    "## What is the Standard Error?\n",
    "The standard error is the square root of the variance of an estimator.\n",
    "\n",
    " $SE = \\sqrt {Var\\, \\hat{\\theta}} $\n",
    "\n",
    "For instance, in the case of $\\hat{X}$ the estimator of the mean $\\mu$. The standard error $SE = \\sqrt {Var \\bar{X}} = \\sqrt{ \\frac{\\sigma^2}{n}} = \\frac{\\sigma}{\\sqrt{n}}$."
   ]
  },
  {
   "cell_type": "markdown",
   "metadata": {
    "id": "G10vTRwgKDjC"
   },
   "source": [
    "From {cite}`casella_statistical_2001` Pag 213 Theorem 5.2.6\n",
    "\n",
    "Let $X_1,\\ldots,X_n$ be a random sample from a population with mean $\\mu$ and variance $\\sigma^2<\\infty$. Then\n",
    "\n",
    "a. $\\mathbb{E} \\bar{X} = \\mu$\n",
    "\n",
    "b. $Var \\bar{X} = \\frac{\\sigma^2}{n}$\n",
    "\n",
    "c. $\\mathbb{E} S^2 = \\sigma^2$\n",
    "\n",
    "where $\\bar{X}$ is the sample mean $\\bar{X} = \\frac{1}{n}\\sum_{i=1}^{n} X_i$ and $S^2$ is the sample variance $S^2 = \\frac{1}{n-1} \\sum_{i=1}^{n} (X_i - \\bar{X})^2$"
   ]
  },
  {
   "cell_type": "markdown",
   "metadata": {
    "id": "aIV-dOQ9N11o"
   },
   "source": [
    "## Notación"
   ]
  },
  {
   "cell_type": "markdown",
   "metadata": {
    "id": "FLIO-JYC_Y8p"
   },
   "source": [
    "Muchos de mis dificultades al estudiar ML vienen de la notación. Aprender a \"leer matemáticas\", para poder después \"hablar\" y escribir esa lengua es fundamental.\n",
    "\n",
    "## Probability Distribution\n",
    "\n",
    "$X \\sim \\mathcal{N}(\\mu,\\sigma^2)$, se lee, la variable aleatoria $X$ tiene una distribución normal con media $\\mu$ y desvio standard $\\sigma$ (varianza $\\sigma^2$).\n",
    "\n",
    "Por otra parte, cuando quiero describir la densidad de probabilidad $p(x)$, puedo usar $p(x) = \\mathcal{N}(x | \\mu,\\sigma^2)$. Dónde, $ \\mathcal{N}(x | \\mu,\\sigma^2) = \\frac{1}{\\sqrt{2\\pi\\sigma^2}}\\text{exp} \\Big\\{-\\frac{1}{2\\sigma^2}(x-\\mu)^2\\Big\\}$."
   ]
  },
  {
   "cell_type": "markdown",
   "metadata": {},
   "source": [
    "## References"
   ]
  },
  {
   "cell_type": "markdown",
   "metadata": {},
   "source": [
    "```{bibliography} ./references.bib\n",
    ":filter: docname in docnames\n",
    "```"
   ]
  }
 ],
 "metadata": {
  "kernelspec": {
   "display_name": "Python 3",
   "language": "python",
   "name": "python3"
  },
  "language_info": {
   "codemirror_mode": {
    "name": "ipython",
    "version": 3
   },
   "file_extension": ".py",
   "mimetype": "text/x-python",
   "name": "python",
   "nbconvert_exporter": "python",
   "pygments_lexer": "ipython3",
   "version": "3.7.9"
  }
 },
 "nbformat": 4,
 "nbformat_minor": 4
}
