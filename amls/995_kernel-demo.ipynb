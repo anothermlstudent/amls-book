{
 "cells": [
  {
   "cell_type": "code",
   "execution_count": 1,
   "metadata": {},
   "outputs": [],
   "source": [
    "#%matplotlib notebook"
   ]
  },
  {
   "cell_type": "markdown",
   "metadata": {},
   "source": [
    "https://kapernikov.com/ipywidgets-with-matplotlib/"
   ]
  },
  {
   "cell_type": "code",
   "execution_count": 1,
   "metadata": {},
   "outputs": [],
   "source": [
    "from ipywidgets import widgets\n",
    "import numpy as np\n",
    "import matplotlib.pyplot as plt"
   ]
  },
  {
   "cell_type": "markdown",
   "metadata": {},
   "source": [
    "## Exponentiated quadratic (RBF) Kernel"
   ]
  },
  {
   "cell_type": "code",
   "execution_count": 2,
   "metadata": {},
   "outputs": [],
   "source": [
    "def compute_gram(l = 4,s = 1):\n",
    "    \"\"\"\n",
    "    l is a parameter that regulates how fast neighbouring \n",
    "    points will become uncorrelated (smaller l, faster they become uncorrelated)\n",
    "    we can add an scaling factor s to regulate between which values it will vary \n",
    "    \"\"\"\n",
    "    k = lambda x, xp : s * np.exp(-((x-xp)**2)/(2*(l**2)))\n",
    "    k = np.vectorize(k)\n",
    "    \n",
    "    N=20\n",
    "    x = np.linspace(0, 1, N)\n",
    "    G = k(np.tile(np.arange(N),(N,1)),np.tile(np.arange(N),(N,1)).transpose())\n",
    "    return G"
   ]
  },
  {
   "cell_type": "code",
   "execution_count": 3,
   "metadata": {},
   "outputs": [
    {
     "data": {
      "image/png": "[encoded data removed]",
      "text/plain": [
       "<Figure size 432x288 with 1 Axes>"
      ]
     },
     "metadata": {
      "needs_background": "light"
     },
     "output_type": "display_data"
    }
   ],
   "source": [
    "output = widgets.Output()\n",
    " \n",
    "with output:\n",
    "    fig, ax = plt.subplots(constrained_layout=True, figsize=(6, 4))\n",
    "    \n",
    "ker = ax.matshow(compute_gram(l = 4,s = 1),cmap=plt.cm.jet)"
   ]
  },
  {
   "cell_type": "code",
   "execution_count": 4,
   "metadata": {},
   "outputs": [],
   "source": [
    "# create some control elements\n",
    "length_slider = widgets.FloatSlider(value=1, min=0.1, max=10, step=0.1, description='length',continuous_update=False)\n",
    "sigma_slider = widgets.FloatSlider(value=1, min=0, max=10, step=0.1, description='sigma',continuous_update=False)\n",
    "kernel_dropdown  = widgets.Dropdown(options=['1', 'exp_q', '3'],value='exp_q', description='Kernel:', disabled=False)\n",
    "\n",
    "# callback functions\n",
    "@output.capture(clear_output=True)\n",
    "def update_length(length):\n",
    "    G = compute_gram(l = length.new,s = sigma_slider.value)\n",
    "    #ax = plt.gca()\n",
    "    ax.matshow(G,cmap=plt.cm.jet)\n",
    "    display(fig)\n",
    "\n",
    "@output.capture(clear_output=True)\n",
    "def update_sigma(sigma):\n",
    "    G = compute_gram(l = length_slider.value,s = sigma.new)\n",
    "    ax.matshow(G,cmap=plt.cm.jet)\n",
    "    display(fig)\n",
    "    \n",
    "@output.capture(clear_output=True)\n",
    "def update_kernel(new_kernel):\n",
    "    G = compute_gram(l = 4,s = 2)\n",
    "    fig.matshow(G,cmap=plt.cm.jet)\n",
    "    display(fig)\n",
    "\n",
    "# connect callbacks and traits\n",
    "length_slider.observe(update_length, 'value')\n",
    "sigma_slider.observe(update_sigma, 'value')\n",
    "kernel_dropdown.observe(update_kernel, 'value')"
   ]
  },
  {
   "cell_type": "code",
   "execution_count": 5,
   "metadata": {},
   "outputs": [
    {
     "data": {
      "application/vnd.jupyter.widget-view+json": {
       "model_id": "08e151f4d0fb42b7bcbaff9333423194",
       "version_major": 2,
       "version_minor": 0
      },
      "text/plain": [
       "HBox(children=(VBox(children=(FloatSlider(value=1.0, continuous_update=False, description='length', max=10.0, …"
      ]
     },
     "metadata": {},
     "output_type": "display_data"
    }
   ],
   "source": [
    "controls = widgets.VBox([length_slider, sigma_slider, kernel_dropdown])\n",
    "widgets.HBox([controls, output])"
   ]
  },
  {
   "cell_type": "markdown",
   "metadata": {},
   "source": [
    "# Kernel Demo"
   ]
  },
  {
   "cell_type": "code",
   "execution_count": 6,
   "metadata": {},
   "outputs": [],
   "source": [
    "def rbk_kernel(l = 4,s = 1):\n",
    "    \"\"\"\n",
    "    l is a parameter that regulates how fast neighbouring \n",
    "    points will become uncorrelated (smaller l, faster they become uncorrelated)\n",
    "    we can add an scaling factor s to regulate between which values it will vary \n",
    "    \"\"\"\n",
    "    k = lambda x, xp : s * np.exp(-((x-xp)**2)/(2*(l**2)))\n",
    "    k = np.vectorize(k)\n",
    "    return k\n",
    "\n",
    "def compute_gram(kernel,N=20):  \n",
    "    x = np.linspace(0, 1, N)\n",
    "    G = kernel(np.tile(np.arange(N),(N,1)),np.tile(np.arange(N),(N,1)).transpose())\n",
    "    return G"
   ]
  },
  {
   "cell_type": "code",
   "execution_count": 7,
   "metadata": {},
   "outputs": [],
   "source": [
    "%%capture\n",
    "a = widgets.FloatLogSlider(value=0,min=-4,max=2,continuous_update=False,description=r'length scale \\( \\mathcal{l} \\)')\n",
    "b = widgets.FloatSlider(value=1,max=4,continuous_update=False,description='scale \\( \\sigma \\)',style={'description_width': 'initial'})\n",
    "c = widgets.IntSlider(value=20,min=1,max=20,continuous_update=False,description='matrix size N')\n",
    "\n",
    "fig, ax = plt.subplots(constrained_layout=True, figsize=(6, 4))\n",
    "fig2, ax2 = plt.subplots(constrained_layout=True, figsize=(6, 4))\n",
    "\n",
    "def plot_gram(a, b, c):\n",
    "    G = compute_gram(kernel=rbk_kernel(l = a,s = b),N=c)    \n",
    "    ms = ax.matshow(G,cmap=plt.cm.jet,vmin=0,vmax=10)\n",
    "    ax.set_title(\"Gram Matrix\")\n",
    "    cbar = fig.colorbar(ms)\n",
    "    #cbar_ticks = cbar.get_ticks()\n",
    "    display(fig)\n",
    "    cbar.set_ticks([])\n",
    "    #print(cbar_ticks)\n",
    "\n",
    "def plot_kernel(a,b):\n",
    "    x = np.linspace(-100, 100, 1000)\n",
    "    kernel = rbk_kernel(l = a,s = b)\n",
    "    y = kernel(x,0)\n",
    "    ax2.plot(x,y)\n",
    "    ax2.set_title(\"Kernel shape\")\n",
    "    ax2.set_ylim([0,3])\n",
    "    display(fig2)\n",
    "    ax2.clear()\n",
    "\n",
    "out1 = widgets.interactive_output(plot_gram, {'a': a, 'b': b, 'c': c})\n",
    "out2 = widgets.interactive_output(plot_kernel, {'a': a, 'b': b})\n",
    "\n",
    "box_layout = widgets.Layout(align_items='center') # other options display='flex',flex_flow='column',width='50%'\n",
    "\n",
    "ui = widgets.HBox([a, b, c],layout=box_layout)\n",
    "o = widgets.HBox([out1,out2],layout=box_layout)\n",
    "\n",
    "app = widgets.VBox([ui,o],layout=box_layout)"
   ]
  },
  {
   "cell_type": "code",
   "execution_count": 8,
   "metadata": {},
   "outputs": [
    {
     "data": {
      "application/vnd.jupyter.widget-view+json": {
       "model_id": "f9a41af12eee45e1a29c515814644723",
       "version_major": 2,
       "version_minor": 0
      },
      "text/plain": [
       "VBox(children=(HBox(children=(FloatLogSlider(value=0.0001, continuous_update=False, description='length scale …"
      ]
     },
     "metadata": {},
     "output_type": "display_data"
    }
   ],
   "source": [
    "display(app)"
   ]
  },
  {
   "cell_type": "code",
   "execution_count": null,
   "metadata": {},
   "outputs": [],
   "source": []
  }
 ],
 "metadata": {
  "kernelspec": {
   "display_name": "Python 3",
   "language": "python",
   "name": "python3"
  },
  "language_info": {
   "codemirror_mode": {
    "name": "ipython",
    "version": 3
   },
   "file_extension": ".py",
   "mimetype": "text/x-python",
   "name": "python",
   "nbconvert_exporter": "python",
   "pygments_lexer": "ipython3",
   "version": "3.7.9"
  }
 },
 "nbformat": 4,
 "nbformat_minor": 4
}
