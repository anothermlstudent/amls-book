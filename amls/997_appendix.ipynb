{
 "cells": [
  {
   "cell_type": "markdown",
   "metadata": {},
   "source": [
    "# Apprendix"
   ]
  },
  {
   "cell_type": "markdown",
   "metadata": {
    "id": "Fp5H2f5tNsZu"
   },
   "source": [
    "## Expectation of a function"
   ]
  },
  {
   "cell_type": "markdown",
   "metadata": {
    "id": "k8UPT12IT3tB"
   },
   "source": [
    "The expectation of a function $f(x)$ can be approaximated by\n",
    "\n",
    "$$ \\mathbb{E}_{x}[f] \\simeq \\frac{1}{N} \\sum_{n=1}^{N} f(x_n)$$\n",
    "\n",
    ",with this approximation becoming exact in the limit $N \\to \\infty$ ({cite}`bishop_pattern_2007` Page 20)."
   ]
  },
  {
   "cell_type": "markdown",
   "metadata": {
    "id": "aIV-dOQ9N11o"
   },
   "source": [
    "## Notación"
   ]
  },
  {
   "cell_type": "markdown",
   "metadata": {
    "id": "FLIO-JYC_Y8p"
   },
   "source": [
    "Muchos de mis dificultades al estudiar ML vienen de la notación. Aprender a \"leer matemáticas\", para poder después \"hablar\" y escribir esa lengua es fundamental.\n",
    "\n",
    "## Ejemplo 1:\n",
    "\n",
    "$X \\sim \\mathcal{N}(\\mu,\\sigma^2)$, se lee, la variable aleatoria $X$ tiene una distribución normal con media $\\mu$ y desvio standard $\\sigma$ (varianza $\\sigma^2$). Por otra parte, cuando quiero describir la densidad de probabilidad $p(x)$, puedo usar $p(x) = \\mathcal{N}(x | \\mu,\\sigma^2)$. En este caso, $p(x) = \\frac{1}{\\sqrt{2\\pi\\sigma^2}}\\text{exp} \\Big\\{-\\frac{1}{2\\sigma^2}(x-\\mu)^2\\Big\\}$."
   ]
  },
  {
   "cell_type": "code",
   "execution_count": null,
   "metadata": {},
   "outputs": [],
   "source": []
  }
 ],
 "metadata": {
  "kernelspec": {
   "display_name": "Python 3",
   "language": "python",
   "name": "python3"
  },
  "language_info": {
   "codemirror_mode": {
    "name": "ipython",
    "version": 3
   },
   "file_extension": ".py",
   "mimetype": "text/x-python",
   "name": "python",
   "nbconvert_exporter": "python",
   "pygments_lexer": "ipython3",
   "version": "3.7.9"
  }
 },
 "nbformat": 4,
 "nbformat_minor": 4
}
